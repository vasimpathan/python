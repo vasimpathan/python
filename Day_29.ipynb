{
  "nbformat": 4,
  "nbformat_minor": 0,
  "metadata": {
    "colab": {
      "provenance": []
    },
    "kernelspec": {
      "name": "python3",
      "display_name": "Python 3"
    },
    "language_info": {
      "name": "python"
    }
  },
  "cells": [
    {
      "cell_type": "code",
      "execution_count": null,
      "metadata": {
        "id": "JS7BGEg01ptU"
      },
      "outputs": [],
      "source": [
        "# Popular Python Resources\n",
        "\n",
        "# --- Reading\n",
        "# W3Schools - https://www.w3schools.com/python/\n",
        "# GeeksforGeeks - https://www.geeksforgeeks.org/python-programming-language-tutorial/\n",
        "# TutorialsPoint - https://www.tutorialspoint.com/python/\n",
        "\n",
        "# --- Testing\n",
        "# Hackerrank - https://www.hackerrank.com/domains/python\n",
        "# Leetcode - https://leetcode.com/problemset/\n",
        "# CodeChef - https://www.codechef.com/\n",
        "\n",
        "# --- Youtube\n",
        "# TheNewBoston"
      ]
    }
  ]
}