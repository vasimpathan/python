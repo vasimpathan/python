{
  "nbformat": 4,
  "nbformat_minor": 0,
  "metadata": {
    "colab": {
      "provenance": []
    },
    "kernelspec": {
      "name": "python3",
      "display_name": "Python 3"
    },
    "language_info": {
      "name": "python"
    }
  },
  "cells": [
    {
      "cell_type": "code",
      "execution_count": null,
      "metadata": {
        "id": "NlWRi21XxuA3"
      },
      "outputs": [],
      "source": [
        "# --- Data Science ---\n",
        "# Numpy, Pandas, Matplotlib\n",
        "# Sklearn, Pytorch, Tensorflow\n",
        "\n",
        "# --- APIs ---\n",
        "# Requests, Flask, FastAPI\n",
        "\n",
        "# --- Web Development ---\n",
        "# Flask, Streamlit, Django\n",
        "\n",
        "# --- Web Scraping / Web Crawling ---\n",
        "# Selenium, BeautifulSoup, Scrapy\n",
        "\n",
        "# --- Computer Vision / Image Processing ---\n",
        "# OpenCV, Pillow, MoviePy, Ultralytics\n",
        "\n"
      ]
    }
  ]
}