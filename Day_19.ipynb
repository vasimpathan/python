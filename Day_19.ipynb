{
  "nbformat": 4,
  "nbformat_minor": 0,
  "metadata": {
    "colab": {
      "provenance": []
    },
    "kernelspec": {
      "name": "python3",
      "display_name": "Python 3"
    },
    "language_info": {
      "name": "python"
    }
  },
  "cells": [
    {
      "cell_type": "markdown",
      "source": [
        "# Q1. Lets say we have a list L1 = [1, 2, 2, 3, 2, 3, 4, 5], now identify the most repetitive element in the list?"
      ],
      "metadata": {
        "id": "VutLI3RcjARI"
      }
    },
    {
      "cell_type": "code",
      "execution_count": null,
      "metadata": {
        "id": "AMXwUyzObdal"
      },
      "outputs": [],
      "source": [
        "# 1s - 1\n",
        "# 2s - 3\n",
        "# 3s - 2\n",
        "# 4s - 1\n",
        "# 5s - 1"
      ]
    },
    {
      "cell_type": "code",
      "source": [
        "num_counter = {}\n",
        "\n",
        "# {1: 1, 2: 3, 3: 2, ...}\n",
        "\n",
        "L1 = [1, 2, 2, 3, 2, 3, 4, 5]\n",
        "for i in L1:\n",
        "  if i in num_counter:\n",
        "    num_counter[i] += 1\n",
        "  else:\n",
        "    num_counter[i] = 1"
      ],
      "metadata": {
        "id": "wYroKZNbcdaI"
      },
      "execution_count": 10,
      "outputs": []
    },
    {
      "cell_type": "code",
      "source": [
        "num_counter"
      ],
      "metadata": {
        "id": "UjmJCG-3cja2",
        "colab": {
          "base_uri": "https://localhost:8080/"
        },
        "outputId": "f9fb9d6a-4340-436e-8935-f3e14e6b0066"
      },
      "execution_count": 11,
      "outputs": [
        {
          "output_type": "execute_result",
          "data": {
            "text/plain": [
              "{1: 1, 2: 3, 3: 2, 4: 1, 5: 1}"
            ]
          },
          "metadata": {},
          "execution_count": 11
        }
      ]
    },
    {
      "cell_type": "code",
      "source": [
        "temp = 0\n",
        "final_result = None\n",
        "\n",
        "for k, v in num_counter.items():\n",
        "  print(f\"k: {k}, v: {v}, temp: {temp}\")\n",
        "  if v > temp:\n",
        "    temp = v\n",
        "    final_result = k"
      ],
      "metadata": {
        "id": "LONgyakhclmI",
        "colab": {
          "base_uri": "https://localhost:8080/"
        },
        "outputId": "1cf6a09e-fdb2-444b-af09-16c2a762b196"
      },
      "execution_count": 12,
      "outputs": [
        {
          "output_type": "stream",
          "name": "stdout",
          "text": [
            "k: 1, v: 1, temp: 0\n",
            "k: 2, v: 3, temp: 1\n",
            "k: 3, v: 2, temp: 3\n",
            "k: 4, v: 1, temp: 3\n",
            "k: 5, v: 1, temp: 3\n"
          ]
        }
      ]
    },
    {
      "cell_type": "code",
      "source": [
        "final_result"
      ],
      "metadata": {
        "colab": {
          "base_uri": "https://localhost:8080/"
        },
        "id": "9sYdZIc2lTF0",
        "outputId": "ca7d6059-35db-4db3-c49f-4048057d150a"
      },
      "execution_count": 13,
      "outputs": [
        {
          "output_type": "execute_result",
          "data": {
            "text/plain": [
              "2"
            ]
          },
          "metadata": {},
          "execution_count": 13
        }
      ]
    }
  ]
}